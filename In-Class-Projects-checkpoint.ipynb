{
 "cells": [
  {
   "cell_type": "markdown",
   "metadata": {},
   "source": [
    "# Project 4: Visualizing Monetary Policy\n",
    "\n",
    "In this in-class project, we hope to accomplish the following. \n",
    "\n",
    "1. Using Spyder, create a python file containing functions that we can import.\n",
    "2. Download Federal Reserve Monetary Policy.\n",
    "3. Build plots describing changes in the Federal Reserve's balance sheet.\n",
    "\n",
    "We first enter Spyder, and create the following Python file:"
   ]
  },
  {
   "cell_type": "code",
   "execution_count": null,
   "metadata": {},
   "outputs": [],
   "source": [
    "#In spyder we create our plots.py file\n",
    "import os\n",
    "import pandas as pd\n",
    "# math and data library\n",
    "import numpy as np\n",
    "import matplotlib.pyplot as plt\n",
    "\n",
    "def plot_ts_scatter(df, s = 75, figsize = (40,20),\n",
    "                    save_fig = False, pp = None):\n",
    "    # gather variables from df\n",
    "    plot_vars = list(df.keys())\n",
    "    for x in plot_vars:\n",
    "        for y in plot_vars:\n",
    "            if x != y:\n",
    "                fig, ax = plt.subplots(figsize = figsize)\n",
    "                # Create list of years from index\n",
    "                # Years will be represented by color\n",
    "                # Years will be the c value\n",
    "                if \"Year\" not in df.keys():\n",
    "                    # create list from index\n",
    "                    # convert each index value to string\n",
    "                    # only include first 4 characters, which is the year\n",
    "                    # create an integer from those charcters\n",
    "                    df[\"Year\"] =[int(str(ind)[:4]) for ind in df.index]\n",
    "                \n",
    "                df.plot.scatter(x = x, y = y, s = s, ax=ax,\n",
    "                                c = \"Year\", cmap = \"viridis\")\n",
    "               \n",
    "                # Turn the text on the x-axis so that it reads vertically\n",
    "                ax.tick_params(axis = \"x\", rotation=90)\n",
    "                # get rid of tick lines\n",
    "                ax.tick_params(\"both\", length = 0, which=\"both\")\n",
    "                if save_fig:\n",
    "                    try:\n",
    "                        os.mkdir(\"plots\")\n",
    "                    except:\n",
    "                        pass\n",
    "                    # identify directory to save figure\n",
    "                    directory = \"plots/\" + x[:12] + \" \" + y[:12] + \" c=Year\"\n",
    "                    plt.savefig(directory.replace(\":\", \"-\") + \".png\")\n",
    "                if pp != None: pp.savefig(fig, bbox_inches = \"tight\")"
   ]
  },
  {
   "cell_type": "code",
   "execution_count": null,
   "metadata": {},
   "outputs": [],
   "source": []
  }
 ],
 "metadata": {
  "kernelspec": {
   "display_name": "Python 3",
   "language": "python",
   "name": "python3"
  },
  "language_info": {
   "codemirror_mode": {
    "name": "ipython",
    "version": 3
   },
   "file_extension": ".py",
   "mimetype": "text/x-python",
   "name": "python",
   "nbconvert_exporter": "python",
   "pygments_lexer": "ipython3",
   "version": "3.8.3"
  }
 },
 "nbformat": 4,
 "nbformat_minor": 4
}
