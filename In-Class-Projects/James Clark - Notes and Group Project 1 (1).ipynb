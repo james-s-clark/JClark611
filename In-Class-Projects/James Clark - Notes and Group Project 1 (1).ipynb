{
 "cells": [
  {
   "cell_type": "markdown",
   "metadata": {},
   "source": [
    "# My First Jupyter Notebook/Class Notes"
   ]
  },
  {
   "cell_type": "markdown",
   "metadata": {},
   "source": [
    "### <font color=green> From Dr. Caton: Class Purpose</font>"
   ]
  },
  {
   "cell_type": "markdown",
   "metadata": {},
   "source": [
    "*Your are in this class to learn how to use computational tools to support economic analysis. While the class is intended to improve your skills as economists, it will open many other doors for you. After this course you will have developed the foundational knowledge required to enter a variety of fields:*\n",
    "\n",
    " - __computational finance__\n",
    " - __data analysis data science__\n",
    " - __functional object oriented programming__\n",
    "\n",
    "*If you wish develop these skills, you will benefit from concurrently enrolling in econometrics, commodity trading, or courses in statistics and computer science.*\n",
    "\n",
    "*The goal of our first lesson is to get acquainted with Jupyter notebooks. Jupyter notebooks are ideal for building a portfolio that you can save on GitHub or as an html file that can be integrated into a personal website. Plan to showcase your work to impress interested employers.*\n",
    "\n",
    "*You will need to learn to work with Jupyter. Whenever you work on a project, it will be useful to keep open a list of keyboard shortcuts and a list of useful commands for altering text and creating useful structures (i.e, lists, hyperlinks, etc..) in markdown mode.*\n",
    "\n",
    "*All projects will need to be created using Jupyter notebooks.*"
   ]
  },
  {
   "cell_type": "markdown",
   "metadata": {},
   "source": [
    "## Dictionaries\n",
    "\n",
    "A dictionary is a \"*data structure that links keys to other objects.* An apt comparison would be the obvious - the *Merriam-Webster Dictionary* or even *Roget's Thesaurus*. In both cases, a key is directly linked to other information. In line from the two examples mentioned, let's start creating simple dictionaries - in these  examples, paralelling their common or colloquial definition."
   ]
  },
  {
   "cell_type": "markdown",
   "metadata": {},
   "source": [
    "### Example of a Simple Dictionary:"
   ]
  },
  {
   "cell_type": "markdown",
   "metadata": {},
   "source": [
    "First, to we must learn the basic coding to create a dictionary. Note: It is common to, at least first (I Hope), be frustrated. I will start this example in Markdown mode, for the purposes of emphasizing what keys are used in defining a dictionary.\n",
    "\n",
    "From the example given in class, let's look at the code itself, as we define, as verbs, to walk, and to run.\n",
    "\n",
    "dct = {\"run\": \"to move swiftly by foot\", \"walk\" : \"to move slowly, leasurely by foot\"}\n",
    "\n",
    "dct"
   ]
  },
  {
   "cell_type": "markdown",
   "metadata": {},
   "source": [
    "Note that to start and end the dictionary, we use the \"squiggly\" bracket. The \":\" character establishes the definition of our key, double apostrophe marks are necessary in both our key and its subsequent definition, and the comma seperates our two keys."
   ]
  },
  {
   "cell_type": "code",
   "execution_count": 3,
   "metadata": {},
   "outputs": [
    {
     "data": {
      "text/plain": [
       "{'run': 'to move swiftly by foot', 'walk': 'to move slowly, leasurely by foot'}"
      ]
     },
     "execution_count": 3,
     "metadata": {},
     "output_type": "execute_result"
    }
   ],
   "source": [
    "dct = {\"run\": \"to move swiftly by foot\",\n",
    "      \"walk\" : \"to move slowly, leasurely by foot\"}\n",
    "dct"
   ]
  },
  {
   "cell_type": "markdown",
   "metadata": {},
   "source": [
    "Before this, in our Jupyter notebook, all the text has been written in \"Markdown\" mode. Previous lines, where we actually defined our dictionary. Were written in \"Code\" mode. To switch between the two (or the two other options), utilize the dropdown menu near the middle of your Jupyter task bar.\n",
    "\n",
    "Also note that, for Jupyter to execute the demand, one holds the \"Ctrl\" and \"Enter\" buttons on your computer simultaneously."
   ]
  },
  {
   "cell_type": "markdown",
   "metadata": {},
   "source": [
    "From the class presentation, let's show an example where each key is linked to multiple objects."
   ]
  },
  {
   "cell_type": "markdown",
   "metadata": {},
   "source": [
    "Using the example from the class presentation lets, create a dictionary where a key is linked to multiple objects.\n",
    "\n",
    "We present this first in the markdown format.\n",
    "\n",
    "In class, Dr. Caton utilized the following code:\n",
    "\n",
    "dct = {\"run\": {\"verb\":\"to move swiftly by foot\", \"noun\":\"refers to a period of time while one was running\"}, \"walk\" :{\"verb\" : \"to move slowly, leasurely by foot\", \"noun\": \"refers to a period of time while one was walking\"}}\n",
    "\n",
    "dct"
   ]
  },
  {
   "cell_type": "markdown",
   "metadata": {},
   "source": [
    "It is worth paying attention to where the \"squibbly\" brackets are. It is easy to gloss over. But, in the meantime, we can move from Markdown to code."
   ]
  },
  {
   "cell_type": "code",
   "execution_count": 5,
   "metadata": {},
   "outputs": [
    {
     "data": {
      "text/plain": [
       "{'run': {'verb': 'to move swiftly by foot',\n",
       "  'noun': 'refers to a period of time while one was running'},\n",
       " 'walk': {'verb': 'to move slowly, leasurely by foot',\n",
       "  'noun': 'refers to a period of time while one was walking'}}"
      ]
     },
     "execution_count": 5,
     "metadata": {},
     "output_type": "execute_result"
    }
   ],
   "source": [
    "dct = {\"run\": {\"verb\":\"to move swiftly by foot\", \n",
    "               \"noun\":\"refers to a period of time while one was running\"},\n",
    "       \"walk\" :{\"verb\" : \"to move slowly, leasurely by foot\",\n",
    "                \"noun\": \"refers to a period of time while one was walking\"}}\n",
    "dct"
   ]
  },
  {
   "cell_type": "markdown",
   "metadata": {},
   "source": [
    "We can now create a DataFrame."
   ]
  },
  {
   "cell_type": "code",
   "execution_count": 8,
   "metadata": {},
   "outputs": [
    {
     "data": {
      "text/html": [
       "<div>\n",
       "<style scoped>\n",
       "    .dataframe tbody tr th:only-of-type {\n",
       "        vertical-align: middle;\n",
       "    }\n",
       "\n",
       "    .dataframe tbody tr th {\n",
       "        vertical-align: top;\n",
       "    }\n",
       "\n",
       "    .dataframe thead th {\n",
       "        text-align: right;\n",
       "    }\n",
       "</style>\n",
       "<table border=\"1\" class=\"dataframe\">\n",
       "  <thead>\n",
       "    <tr style=\"text-align: right;\">\n",
       "      <th></th>\n",
       "      <th>run</th>\n",
       "      <th>walk</th>\n",
       "    </tr>\n",
       "  </thead>\n",
       "  <tbody>\n",
       "    <tr>\n",
       "      <th>verb</th>\n",
       "      <td>to move swiftly by foot</td>\n",
       "      <td>to move slowly, leasurely by foot</td>\n",
       "    </tr>\n",
       "    <tr>\n",
       "      <th>noun</th>\n",
       "      <td>refers to a period of time while one was running</td>\n",
       "      <td>refers to a period of time while one was walking</td>\n",
       "    </tr>\n",
       "  </tbody>\n",
       "</table>\n",
       "</div>"
      ],
      "text/plain": [
       "                                                   run  \\\n",
       "verb                           to move swiftly by foot   \n",
       "noun  refers to a period of time while one was running   \n",
       "\n",
       "                                                  walk  \n",
       "verb                 to move slowly, leasurely by foot  \n",
       "noun  refers to a period of time while one was walking  "
      ]
     },
     "execution_count": 8,
     "metadata": {},
     "output_type": "execute_result"
    }
   ],
   "source": [
    "import pandas as pd\n",
    "df = pd.DataFrame(dct)\n",
    "df"
   ]
  },
  {
   "cell_type": "markdown",
   "metadata": {},
   "source": [
    "### Another Example\n",
    "\n",
    "In class, we linked students to particular attributes, in this case, age and interesting fact."
   ]
  },
  {
   "cell_type": "code",
   "execution_count": 10,
   "metadata": {},
   "outputs": [
    {
     "data": {
      "text/plain": [
       "{'Tyler': {},\n",
       " 'Emmanuel': {},\n",
       " 'Amanda': {},\n",
       " 'Logan': {},\n",
       " 'Connor': {},\n",
       " 'Dylan': {},\n",
       " 'Gwen': {},\n",
       " 'Jack': {},\n",
       " 'Ben': {},\n",
       " 'James': {}}"
      ]
     },
     "execution_count": 10,
     "metadata": {},
     "output_type": "execute_result"
    }
   ],
   "source": [
    "dct = {\"Tyler\": {},\n",
    "       \"Emmanuel\": {},\n",
    "       \"Amanda\":{}, \n",
    "       \"Logan\":{},\n",
    "       \"Connor\":{}, \n",
    "       \"Dylan\":{},\n",
    "       \"Gwen\":{}, \n",
    "       \"Jack\":{}, \n",
    "       \"Ben\":{},\n",
    "       \"James\":{}}\n",
    "dct"
   ]
  },
  {
   "cell_type": "markdown",
   "metadata": {},
   "source": [
    "*Note: For pedagogical reasons, we have initially left these blank, as it will be easier to fill in the information later, as opposed to doing each one at a time, but we will fill them now with the relevant information*"
   ]
  },
  {
   "cell_type": "code",
   "execution_count": 31,
   "metadata": {},
   "outputs": [
    {
     "data": {
      "text/plain": [
       "{'Tyler': {'Age': '21',\n",
       "  'Interesting Fact': 'I am left-handed / ambidextrious!'},\n",
       " 'Emmanuel': {'Age': '32', 'Interesting Fact': 'I have 7 degrees.'},\n",
       " 'Logan': {'Age': '22', 'Interesting Fact': 'I fight fires'},\n",
       " 'Connor': {'Age': '21', 'Interesting Fact': 'I play Tennis'},\n",
       " 'Dylan': {'Age': '21', 'Interesting Fact': 'I am a Triplet'},\n",
       " 'Gwen': {'Age': '23',\n",
       "  'Interseting Fact': 'I Bought My First Cow When I was 10'},\n",
       " 'Jack': {'Age': '21', 'Interesting Fact': 'I Have Never Broken a Bone'},\n",
       " 'Ben': {'Age': '23', 'Interesting Fact': 'I like basketball'},\n",
       " 'James': {'Age': '28', 'Interesting Fact': \"I'm From Bejou\"}}"
      ]
     },
     "execution_count": 31,
     "metadata": {},
     "output_type": "execute_result"
    }
   ],
   "source": [
    "{'Tyler': {\"Age\":\"21\", 'Interesting Fact': 'I am left-handed / ambidextrious!'},\n",
    " 'Emmanuel': {\"Age\":\"32\",\"Interesting Fact\":\"I have 7 degrees.\"},\n",
    " 'Logan': {\"Age\":\"22\",\"Interesting Fact\":\"I fight fires\"},\n",
    " 'Connor': {\"Age\":\"21\",\"Interesting Fact\":\"I play Tennis\"},\n",
    " 'Dylan': {\"Age\":\"21\",\"Interesting Fact\":\"I am a Triplet\"},\n",
    " 'Gwen': {\"Age\":\"23\",\"Interseting Fact\":\"I Bought My First Cow When I was 10\"},\n",
    " 'Jack': {\"Age\":\"21\",\"Interesting Fact\":\"I Have Never Broken a Bone\"},\n",
    " 'Ben': {\"Age\":\"23\",\"Interesting Fact\":\"I like basketball\"},\n",
    " 'James': {\"Age\":\"28\",\"Interesting Fact\":\"I'm From Bejou\"}}"
   ]
  },
  {
   "cell_type": "markdown",
   "metadata": {},
   "source": [
    " Dr. Caton recommended that it could be easier to utilize the following method, whereby we could, with different attributes, focus on one key at a time.\n",
    "\n",
    "The following comes from Dr. Caton's notes:"
   ]
  },
  {
   "cell_type": "code",
   "execution_count": 33,
   "metadata": {},
   "outputs": [
    {
     "data": {
      "text/plain": [
       "{'Tyler': {'Age': '21',\n",
       "  'Interesting Fact': 'I am left-handed / ambidextrious!'},\n",
       " 'Emmanuel': {'Age': 32,\n",
       "  'Interesting Fact': \"I have 7 degrees!!! And I'm earning the M.S. Data Analytics\"},\n",
       " 'Logan': {'Age': 22, 'Interesting Fact': 'I fight fires!'},\n",
       " 'Connor': {'Age': 21, 'Interesting Fact': 'I like to play tennis!'},\n",
       " 'Dylan': {'Age': 21, 'Interesting Fact': 'I am a triplet!'},\n",
       " 'Gwen': {'Age': 23,\n",
       "  'Interesting Fact': 'I bought my first cow when I was 10 years old!'},\n",
       " 'Jack': {'Age': 21, 'Interesting Fact': 'I have never broken a bone!'},\n",
       " 'Ben': {'Age': 23, 'Interesting Fact': 'I like basketball!'},\n",
       " 'James': {'Age': 28, 'Interesting Fact': 'I am from Bejou!'}}"
      ]
     },
     "execution_count": 33,
     "metadata": {},
     "output_type": "execute_result"
    }
   ],
   "source": [
    "dct[\"Emmanuel\"][\"Age\"] = 32\n",
    "dct[\"Emmanuel\"][\"Interesting Fact\"] = \"I have 7 degrees!!! And I'm earning the M.S. Data Analytics\"\n",
    "dct[\"Dylan\"][\"Age\"] = 21\n",
    "dct[\"Dylan\"][\"Interesting Fact\"] = \"I am a triplet!\"\n",
    "dct[\"Jack\"][\"Age\"] = 21\n",
    "dct[\"Jack\"][\"Interesting Fact\"] = \"I have never broken a bone!\" \n",
    "dct[\"Logan\"][\"Age\"] = 22\n",
    "dct[\"Logan\"][\"Interesting Fact\"] = \"I fight fires!\"\n",
    "dct[\"Gwen\"][\"Age\"] = 23\n",
    "dct[\"Gwen\"][\"Interesting Fact\"] = \"I bought my first cow when I was 10 years old!\"\n",
    "dct[\"James\"][\"Age\"] = 28\n",
    "dct[\"James\"][\"Interesting Fact\"] = \"I am from Bejou!\"\n",
    "dct[\"Ben\"][\"Age\"] = 23\n",
    "dct[\"Ben\"][\"Interesting Fact\"] = \"I like basketball!\"\n",
    "dct[\"Connor\"][\"Age\"] = 21\n",
    "dct[\"Connor\"][\"Interesting Fact\"] = \"I like to play tennis!\"\n",
    "\n",
    "dct"
   ]
  },
  {
   "cell_type": "code",
   "execution_count": 36,
   "metadata": {},
   "outputs": [
    {
     "data": {
      "text/html": [
       "<div>\n",
       "<style scoped>\n",
       "    .dataframe tbody tr th:only-of-type {\n",
       "        vertical-align: middle;\n",
       "    }\n",
       "\n",
       "    .dataframe tbody tr th {\n",
       "        vertical-align: top;\n",
       "    }\n",
       "\n",
       "    .dataframe thead th {\n",
       "        text-align: right;\n",
       "    }\n",
       "</style>\n",
       "<table border=\"1\" class=\"dataframe\">\n",
       "  <thead>\n",
       "    <tr style=\"text-align: right;\">\n",
       "      <th></th>\n",
       "      <th>Tyler</th>\n",
       "      <th>Emmanuel</th>\n",
       "      <th>Logan</th>\n",
       "      <th>Connor</th>\n",
       "      <th>Dylan</th>\n",
       "      <th>Gwen</th>\n",
       "      <th>Jack</th>\n",
       "      <th>Ben</th>\n",
       "      <th>James</th>\n",
       "    </tr>\n",
       "  </thead>\n",
       "  <tbody>\n",
       "    <tr>\n",
       "      <th>Age</th>\n",
       "      <td>21</td>\n",
       "      <td>32</td>\n",
       "      <td>22</td>\n",
       "      <td>21</td>\n",
       "      <td>21</td>\n",
       "      <td>23</td>\n",
       "      <td>21</td>\n",
       "      <td>23</td>\n",
       "      <td>28</td>\n",
       "    </tr>\n",
       "    <tr>\n",
       "      <th>Interesting Fact</th>\n",
       "      <td>I am left-handed / ambidextrious!</td>\n",
       "      <td>I have 7 degrees!!! And I'm earning the M.S. D...</td>\n",
       "      <td>I fight fires!</td>\n",
       "      <td>I like to play tennis!</td>\n",
       "      <td>I am a triplet!</td>\n",
       "      <td>I bought my first cow when I was 10 years old!</td>\n",
       "      <td>I have never broken a bone!</td>\n",
       "      <td>I like basketball!</td>\n",
       "      <td>I am from Bejou!</td>\n",
       "    </tr>\n",
       "  </tbody>\n",
       "</table>\n",
       "</div>"
      ],
      "text/plain": [
       "                                              Tyler  \\\n",
       "Age                                              21   \n",
       "Interesting Fact  I am left-handed / ambidextrious!   \n",
       "\n",
       "                                                           Emmanuel  \\\n",
       "Age                                                              32   \n",
       "Interesting Fact  I have 7 degrees!!! And I'm earning the M.S. D...   \n",
       "\n",
       "                           Logan                  Connor            Dylan  \\\n",
       "Age                           22                      21               21   \n",
       "Interesting Fact  I fight fires!  I like to play tennis!  I am a triplet!   \n",
       "\n",
       "                                                            Gwen  \\\n",
       "Age                                                           23   \n",
       "Interesting Fact  I bought my first cow when I was 10 years old!   \n",
       "\n",
       "                                         Jack                 Ben  \\\n",
       "Age                                        21                  23   \n",
       "Interesting Fact  I have never broken a bone!  I like basketball!   \n",
       "\n",
       "                             James  \n",
       "Age                             28  \n",
       "Interesting Fact  I am from Bejou!  "
      ]
     },
     "execution_count": 36,
     "metadata": {},
     "output_type": "execute_result"
    }
   ],
   "source": [
    "df = pd.DataFrame(dct)\n",
    "df"
   ]
  },
  {
   "cell_type": "markdown",
   "metadata": {},
   "source": [
    "## Dictionary of Select AGEC Faculty"
   ]
  },
  {
   "cell_type": "code",
   "execution_count": 38,
   "metadata": {},
   "outputs": [
    {
     "data": {
      "text/plain": [
       "{'William Nganje': {'Website': 'https://www.ndsu.edu/agecon/faculty/william_nganje/#c622350',\n",
       "  'Areas of Specialization': 'Risk management; financial analysis; economics of obesity, food safety and food terrorism; experimental economics; and consumer choice theory',\n",
       "  'Bio': 'NA'},\n",
       " 'David Bullock': {'Website': 'https://www.ndsu.edu/agecon/faculty/bullock/#c622728',\n",
       "  'Areas of Specialization': 'futures and options markets, over-the-counter derivatives, trading, risk management, agrifinance, Monte Carlo simulation, and Big Data',\n",
       "  'Bio': 'Dr. David W. Bullock is a Research Associate Professor affiliated with the Center for Trading and Risk at NDSU.  His research interests include futures and options markets, over-the-counter derivatives, trading, risk management, agrifinance, Monte Carlo simulation, and Big Data applications in agriculture.  His academic research in option portfolio theory has been published in both the Journal of Economics and Business and the International Review of Economics and Finance.  Additionally, he was the primary contributor behind the AgriBank Insights publication series which won a National AgriMarketing Association (NAMA) award for the best company publication in 2016. Before coming to NDSU in January 2018, Dr. Bullock held numerous positions for over 25 years in the government and private sectors including the Senior Economist at AgriBank FCB – the regional Farm Credit System funding bank for the Upper Midwest region, Director of Research and Senior Foods Economist at Fortune 500 commodity risk management firm INTL FCStone Inc., the Senior Dairy Analyst at Informa Economics, a Risk Management Specialist with the Minnesota Department of Agriculture, and the Senior Economist at the Minneapolis Grain Exchange. David began his academic career as an Assistant Professor and Extension Marketing Economist at Montana State University after graduating from Iowa State University with a Ph.D. in agricultural economics with fields in agricultural price analysis and econometrics in 1989.  Prior to entering ISU, he received bachelor’s (1982) and master’s (1984) degrees in agricultural economics from Northwest Missouri State University. Dr. Bullock is originally from the small northwestern Missouri farming community of Lathrop which is located 40 miles north of the Kansas City metropolitan area.  While in high school, he served as a regional state Vice-President in the Future Farmers of America (FFA) during his senior year.'},\n",
       " 'James Caton': {'Website': 'https://www.ndsu.edu/centers/pcpe/about/directory/james_caton/',\n",
       "  'Areas of Specialization': 'Entrepreneurship, Institutions, Macroeconomics, Computation',\n",
       "  'Bio': \"James Caton is a faculty fellow at the NDSU Center for the Study of Public Choice and Private Enterprise (PCPE) and an assistant professor in the NDSU Department of Agribusiness and Applied Economics. He teaches undergraduate courses in the areas of macroeconomics, international trade, and computation. He specializes in research related to entrepreneurship, agent-based computational economics, market process theory, and monetary economics. His research has been published in the Southern Economic Journal, Erasmus Journal for Philosophy and Economics, Journal of Entrepreneurship and Public Policy and other academic publications. He co-edited Macroeconomics, a two volume set of essays and primary sources that represent the core of macroeconomic thought. He is also a regular contributor to the American Institute for Economic Research's Sound Money Project, which conducts research and promotes awareness about monetary stability and financial privacy. He resides in Fargo with his wife, Ingrid, and their children.\"},\n",
       " 'David Englund': {'Website': 'https://www.ndsu.edu/agecon/faculty/englund/#c622903',\n",
       "  'Areas of Specialization': 'Teaches Economic Principles, Led NDSU NAMA to National Champions',\n",
       "  'Bio': 'David Englund is a lecturer in the department.  He came to the department with 16 years of teaching experience, having taught Principles of Microeconomics, Principles of Macroeconomics, Money and Banking, Consumer Behavior, Selected Topics in Business, and several other classes.  He also had 10 years’ experience advising student NAMA chapters, having been awarded the Outstanding Advisor of the Year for a Developing Chapter in 2002, and the Outstanding Advisor of the Year award in 2009.\\nDavid primarily teaches Survey of Economics, Principles of Microeconomics, Skills for Academic Success, Agricultural Marketing, and NAMA (co-teaches).  He joined the NAMA team in the 2014-2015 school year as a co-advisor and helped coach the student team to a 3rd place finish in the national student marketing plan competition at the national conference.\\nSome of David’s outside interests are jogging, photography, and writing fiction novels.  His latest release, Camouflaged Encounters has received positive reviews.'},\n",
       " 'Erik Hanson': {'Website': 'https://www.ndsu.edu/agecon/faculty/hanson/#c622905',\n",
       "  'Areas of Specialization': 'Ag Management, Ag Finance',\n",
       "  'Bio': 'Erik Hanson is an Assistant Professor in the Department of Agricultural and Applied Economics. He teaches courses on agribusiness management and agricultural finance. Erik completed his Ph.D. at the University of Minnesota in 2016. Prior to that, Erik completed a master’s degree at the University of Illinois (2013) and a bachelor’s degree at Minnesota State University Moorhead (2011).'},\n",
       " 'Ronald Haugen': {'Website': 'https://www.ndsu.edu/agecon/about_us/faculty/ron_haugen/#c654700',\n",
       "  'Areas of Specialization': 'Farm Management Specialist',\n",
       "  'Bio': 'Ron Haugen is an Extension Farm Management Specialist. He has been in the department since 1991. Farm management topics include: crop budgets, crop insurance, farm programs, custom farm rates, land rents, machinery economics, commodity price projections and agricultural income taxes. He computes the North Dakota Land Valuation Model.'},\n",
       " 'Robert Hearne': {'Website': 'https://www.ndsu.edu/agecon/faculty/hearne/#c622909',\n",
       "  'Areas of Specialization': 'Natural Resource Economics, Water Markets, Welfare Economics',\n",
       "  'Bio': 'Dr. Bob Hearne has been in the Department of Agribusiness and Applied Economics since 2002.   His research focuses on water resources management institutions, water markets, protected area management, and the economic valuation of environmental goods and services.  He has professional experience in Europe, Asia, Latin America, and Asia. '},\n",
       " 'Jeremy Jackson': {'Website': 'https://www.ndsu.edu/centers/pcpe/about/directory/jeremy_jackson/',\n",
       "  'Areas of Specialization': 'Public Choice/Political Economy, Game Theory',\n",
       "  'Bio': 'Jeremy Jackson is the director of the NDSU Center for the Study of Public Choice and Private Enterprise (PCPE) and a professor in the NDSU Department of Agribusiness and Applied Economics. He teaches undergraduate and graduate courses in the areas of microeconomics, public economics, and game theory and strategy. His research covers diverse topics, including public choice and the political economy; the social consequences of economic freedom; happiness and well-being; and philanthropy and nonprofits. His research has been published in Applied Economics, The Independent Review, Public Choice, Contemporary Economic Policy, Journal of Happiness Studies, and other refereed and non-refereed sources. He is a member of the Foundation for Economic Education Faculty Network, American Economic Association, Association of Private Enterprise Education, Omnicron Delta Epsilon, Public Choice Society, and Association for Public Economic Theory.'},\n",
       " 'Siew Lim': {'Website': 'https://www.ndsu.edu/agecon/faculty/lim/#c624837',\n",
       "  'Areas of Specialization': 'Transportation Economics and Applied Microeconomics',\n",
       "  'Bio': 'Siew Hoon Lim is an associate professor of economics. Her current research is in applied microeconomics, production economics, industrial organization, transportation and regional development. Her recent research works include transportation and  regional development.'},\n",
       " 'David Roberts': {'Website': 'https://www.ndsu.edu/agecon/faculty/roberts/#c629137',\n",
       "  'Areas of Specialization': 'Agricultural Economics ',\n",
       "  'Bio': 'David Roberts is an Assistant Professor of Agribusiness and Applied Economics at North Dakota State University. His research focuses on the impacts of agricultural production methods on the environment and natural resources. David is particularly interested in the economics of precision agriculture technologies and the response of cropping patterns and land use change to emerging biofuels policy at the Federal level.'},\n",
       " 'Cheryl Wachenheim': {'Website': 'https://www.ndsu.edu/agecon/faculty/wachenheim/#c629162',\n",
       "  'Areas of Specialization': 'Agricultural Economics, Agricultural Finance and Marketing',\n",
       "  'Bio': 'Cheryl Wachenheim is a Professor in the Department of Agribusiness and Applied Economics at North Dakota State University. She holds an undergraduate degree in animal sciences from the University of Minnesota, and a Master’s and doctorate in Agricultural Economics and an MBA from Michigan State University. She began her academic career at Illinois State University in Central Illinois and has been on the faculty at NDSU since 1998.  She regularly teaches classes in economics, agricultural sales, agricultural finance, agricultural marketing, and strategic marketing and management.  Research interests focus on eliciting perceptions and valuations from consumers, firms, students and other stakeholders and decision makers.  Analysis then allows for identification of high-value marketing and management strategies.  Cheryl has been a member of the MN Army National Guard since 1998. She is currently the Commander of the 204th Area Medical Support Company in Cottage Grove, Minnesota.'},\n",
       " 'Lei Zhang': {'Website': 'https://www.ndsu.edu/agecon/faculty/zhang/#c629184',\n",
       "  'Areas of Specialization': 'Applied Econometrics, Regional Economics, Housing',\n",
       "  'Bio': 'Lei Zhang is an Associate Professor of Economics. Her primary research fields include applied econometrics (especially spatial econometrics), and urban and regional economics. Her current research focuses on a variety of housing related issues. She received the North American Colleges and Teachers of Agriculture Teaching Award in 2017.'}}"
      ]
     },
     "execution_count": 38,
     "metadata": {},
     "output_type": "execute_result"
    }
   ],
   "source": [
    "faculty_dict = {'William Nganje': {'Website': 'https://www.ndsu.edu/agecon/faculty/william_nganje/#c622350',\n",
    "  'Areas of Specialization': 'Risk management; financial analysis; economics of obesity, food safety and food terrorism; experimental economics; and consumer choice theory',\n",
    "  'Bio': 'NA'},\n",
    " 'David Bullock': {'Website': 'https://www.ndsu.edu/agecon/faculty/bullock/#c622728',\n",
    "  'Areas of Specialization': 'futures and options markets, over-the-counter derivatives, trading, risk management, agrifinance, Monte Carlo simulation, and Big Data',\n",
    "  'Bio': 'Dr. David W. Bullock is a Research Associate Professor affiliated with the Center for Trading and Risk at NDSU.  His research interests include futures and options markets, over-the-counter derivatives, trading, risk management, agrifinance, Monte Carlo simulation, and Big Data applications in agriculture.  His academic research in option portfolio theory has been published in both the Journal of Economics and Business and the International Review of Economics and Finance.  Additionally, he was the primary contributor behind the AgriBank Insights publication series which won a National AgriMarketing Association (NAMA) award for the best company publication in 2016. Before coming to NDSU in January 2018, Dr. Bullock held numerous positions for over 25 years in the government and private sectors including the Senior Economist at AgriBank FCB – the regional Farm Credit System funding bank for the Upper Midwest region, Director of Research and Senior Foods Economist at Fortune 500 commodity risk management firm INTL FCStone Inc., the Senior Dairy Analyst at Informa Economics, a Risk Management Specialist with the Minnesota Department of Agriculture, and the Senior Economist at the Minneapolis Grain Exchange. David began his academic career as an Assistant Professor and Extension Marketing Economist at Montana State University after graduating from Iowa State University with a Ph.D. in agricultural economics with fields in agricultural price analysis and econometrics in 1989.  Prior to entering ISU, he received bachelor’s (1982) and master’s (1984) degrees in agricultural economics from Northwest Missouri State University. Dr. Bullock is originally from the small northwestern Missouri farming community of Lathrop which is located 40 miles north of the Kansas City metropolitan area.  While in high school, he served as a regional state Vice-President in the Future Farmers of America (FFA) during his senior year.'},\n",
    " 'James Caton': {'Website': 'https://www.ndsu.edu/centers/pcpe/about/directory/james_caton/',\n",
    "  'Areas of Specialization': 'Entrepreneurship, Institutions, Macroeconomics, Computation',\n",
    "  'Bio': \"James Caton is a faculty fellow at the NDSU Center for the Study of Public Choice and Private Enterprise (PCPE) and an assistant professor in the NDSU Department of Agribusiness and Applied Economics. He teaches undergraduate courses in the areas of macroeconomics, international trade, and computation. He specializes in research related to entrepreneurship, agent-based computational economics, market process theory, and monetary economics. His research has been published in the Southern Economic Journal, Erasmus Journal for Philosophy and Economics, Journal of Entrepreneurship and Public Policy and other academic publications. He co-edited Macroeconomics, a two volume set of essays and primary sources that represent the core of macroeconomic thought. He is also a regular contributor to the American Institute for Economic Research's Sound Money Project, which conducts research and promotes awareness about monetary stability and financial privacy. He resides in Fargo with his wife, Ingrid, and their children.\"},\n",
    " 'David Englund': {'Website': 'https://www.ndsu.edu/agecon/faculty/englund/#c622903',\n",
    "  'Areas of Specialization': 'Teaches Economic Principles, Led NDSU NAMA to National Champions',\n",
    "  'Bio': 'David Englund is a lecturer in the department.  He came to the department with 16 years of teaching experience, having taught Principles of Microeconomics, Principles of Macroeconomics, Money and Banking, Consumer Behavior, Selected Topics in Business, and several other classes.  He also had 10 years’ experience advising student NAMA chapters, having been awarded the Outstanding Advisor of the Year for a Developing Chapter in 2002, and the Outstanding Advisor of the Year award in 2009.\\nDavid primarily teaches Survey of Economics, Principles of Microeconomics, Skills for Academic Success, Agricultural Marketing, and NAMA (co-teaches).  He joined the NAMA team in the 2014-2015 school year as a co-advisor and helped coach the student team to a 3rd place finish in the national student marketing plan competition at the national conference.\\nSome of David’s outside interests are jogging, photography, and writing fiction novels.  His latest release, Camouflaged Encounters has received positive reviews.'},\n",
    " 'Erik Hanson': {'Website': 'https://www.ndsu.edu/agecon/faculty/hanson/#c622905',\n",
    "  'Areas of Specialization': 'Ag Management, Ag Finance',\n",
    "  'Bio': 'Erik Hanson is an Assistant Professor in the Department of Agricultural and Applied Economics. He teaches courses on agribusiness management and agricultural finance. Erik completed his Ph.D. at the University of Minnesota in 2016. Prior to that, Erik completed a master’s degree at the University of Illinois (2013) and a bachelor’s degree at Minnesota State University Moorhead (2011).'},\n",
    " 'Ronald Haugen': {'Website': 'https://www.ndsu.edu/agecon/about_us/faculty/ron_haugen/#c654700', 'Areas of Specialization': 'Farm Management Specialist', 'Bio': 'Ron Haugen is an Extension Farm Management Specialist. He has been in the department since 1991. Farm management topics include: crop budgets, crop insurance, farm programs, custom farm rates, land rents, machinery economics, commodity price projections and agricultural income taxes. He computes the North Dakota Land Valuation Model.'},\n",
    " 'Robert Hearne': {'Website': 'https://www.ndsu.edu/agecon/faculty/hearne/#c622909', 'Areas of Specialization': 'Natural Resource Economics, Water Markets, Welfare Economics', 'Bio': 'Dr. Bob Hearne has been in the Department of Agribusiness and Applied Economics since 2002.   His research focuses on water resources management institutions, water markets, protected area management, and the economic valuation of environmental goods and services.  He has professional experience in Europe, Asia, Latin America, and Asia. '},\n",
    " 'Jeremy Jackson': {'Website': 'https://www.ndsu.edu/centers/pcpe/about/directory/jeremy_jackson/', 'Areas of Specialization': 'Public Choice/Political Economy, Game Theory', 'Bio': 'Jeremy Jackson is the director of the NDSU Center for the Study of Public Choice and Private Enterprise (PCPE) and a professor in the NDSU Department of Agribusiness and Applied Economics. He teaches undergraduate and graduate courses in the areas of microeconomics, public economics, and game theory and strategy. His research covers diverse topics, including public choice and the political economy; the social consequences of economic freedom; happiness and well-being; and philanthropy and nonprofits. His research has been published in Applied Economics, The Independent Review, Public Choice, Contemporary Economic Policy, Journal of Happiness Studies, and other refereed and non-refereed sources. He is a member of the Foundation for Economic Education Faculty Network, American Economic Association, Association of Private Enterprise Education, Omnicron Delta Epsilon, Public Choice Society, and Association for Public Economic Theory.'},\n",
    " 'Siew Lim': {'Website': 'https://www.ndsu.edu/agecon/faculty/lim/#c624837', 'Areas of Specialization': 'Transportation Economics and Applied Microeconomics', 'Bio': 'Siew Hoon Lim is an associate professor of economics. Her current research is in applied microeconomics, production economics, industrial organization, transportation and regional development. Her recent research works include transportation and  regional development.'},\n",
    " 'David Roberts': {'Website': 'https://www.ndsu.edu/agecon/faculty/roberts/#c629137', 'Areas of Specialization': 'Agricultural Economics ', 'Bio': 'David Roberts is an Assistant Professor of Agribusiness and Applied Economics at North Dakota State University. His research focuses on the impacts of agricultural production methods on the environment and natural resources. David is particularly interested in the economics of precision agriculture technologies and the response of cropping patterns and land use change to emerging biofuels policy at the Federal level.'},\n",
    " 'Cheryl Wachenheim': {'Website': 'https://www.ndsu.edu/agecon/faculty/wachenheim/#c629162','Areas of Specialization': 'Agricultural Economics, Agricultural Finance and Marketing','Bio': 'Cheryl Wachenheim is a Professor in the Department of Agribusiness and Applied Economics at North Dakota State University. She holds an undergraduate degree in animal sciences from the University of Minnesota, and a Master’s and doctorate in Agricultural Economics and an MBA from Michigan State University. She began her academic career at Illinois State University in Central Illinois and has been on the faculty at NDSU since 1998.  She regularly teaches classes in economics, agricultural sales, agricultural finance, agricultural marketing, and strategic marketing and management.  Research interests focus on eliciting perceptions and valuations from consumers, firms, students and other stakeholders and decision makers.  Analysis then allows for identification of high-value marketing and management strategies.  Cheryl has been a member of the MN Army National Guard since 1998. She is currently the Commander of the 204th Area Medical Support Company in Cottage Grove, Minnesota.'},\n",
    " 'Lei Zhang': {'Website': 'https://www.ndsu.edu/agecon/faculty/zhang/#c629184', 'Areas of Specialization': 'Applied Econometrics, Regional Economics, Housing', 'Bio': 'Lei Zhang is an Associate Professor of Economics. Her primary research fields include applied econometrics (especially spatial econometrics), and urban and regional economics. Her current research focuses on a variety of housing related issues. She received the North American Colleges and Teachers of Agriculture Teaching Award in 2017.'}}\n",
    "faculty_dict"
   ]
  },
  {
   "cell_type": "code",
   "execution_count": 39,
   "metadata": {},
   "outputs": [
    {
     "data": {
      "text/html": [
       "<div>\n",
       "<style scoped>\n",
       "    .dataframe tbody tr th:only-of-type {\n",
       "        vertical-align: middle;\n",
       "    }\n",
       "\n",
       "    .dataframe tbody tr th {\n",
       "        vertical-align: top;\n",
       "    }\n",
       "\n",
       "    .dataframe thead th {\n",
       "        text-align: right;\n",
       "    }\n",
       "</style>\n",
       "<table border=\"1\" class=\"dataframe\">\n",
       "  <thead>\n",
       "    <tr style=\"text-align: right;\">\n",
       "      <th></th>\n",
       "      <th>William Nganje</th>\n",
       "      <th>David Bullock</th>\n",
       "      <th>James Caton</th>\n",
       "      <th>David Englund</th>\n",
       "      <th>Erik Hanson</th>\n",
       "      <th>Ronald Haugen</th>\n",
       "      <th>Robert Hearne</th>\n",
       "      <th>Jeremy Jackson</th>\n",
       "      <th>Siew Lim</th>\n",
       "      <th>David Roberts</th>\n",
       "      <th>Cheryl Wachenheim</th>\n",
       "      <th>Lei Zhang</th>\n",
       "    </tr>\n",
       "  </thead>\n",
       "  <tbody>\n",
       "    <tr>\n",
       "      <th>Website</th>\n",
       "      <td>https://www.ndsu.edu/agecon/faculty/william_ng...</td>\n",
       "      <td>https://www.ndsu.edu/agecon/faculty/bullock/#c...</td>\n",
       "      <td>https://www.ndsu.edu/centers/pcpe/about/direct...</td>\n",
       "      <td>https://www.ndsu.edu/agecon/faculty/englund/#c...</td>\n",
       "      <td>https://www.ndsu.edu/agecon/faculty/hanson/#c6...</td>\n",
       "      <td>https://www.ndsu.edu/agecon/about_us/faculty/r...</td>\n",
       "      <td>https://www.ndsu.edu/agecon/faculty/hearne/#c6...</td>\n",
       "      <td>https://www.ndsu.edu/centers/pcpe/about/direct...</td>\n",
       "      <td>https://www.ndsu.edu/agecon/faculty/lim/#c624837</td>\n",
       "      <td>https://www.ndsu.edu/agecon/faculty/roberts/#c...</td>\n",
       "      <td>https://www.ndsu.edu/agecon/faculty/wachenheim...</td>\n",
       "      <td>https://www.ndsu.edu/agecon/faculty/zhang/#c62...</td>\n",
       "    </tr>\n",
       "    <tr>\n",
       "      <th>Areas of Specialization</th>\n",
       "      <td>Risk management; financial analysis; economics...</td>\n",
       "      <td>futures and options markets, over-the-counter ...</td>\n",
       "      <td>Entrepreneurship, Institutions, Macroeconomics...</td>\n",
       "      <td>Teaches Economic Principles, Led NDSU NAMA to ...</td>\n",
       "      <td>Ag Management, Ag Finance</td>\n",
       "      <td>Farm Management Specialist</td>\n",
       "      <td>Natural Resource Economics, Water Markets, Wel...</td>\n",
       "      <td>Public Choice/Political Economy, Game Theory</td>\n",
       "      <td>Transportation Economics and Applied Microecon...</td>\n",
       "      <td>Agricultural Economics</td>\n",
       "      <td>Agricultural Economics, Agricultural Finance a...</td>\n",
       "      <td>Applied Econometrics, Regional Economics, Housing</td>\n",
       "    </tr>\n",
       "    <tr>\n",
       "      <th>Bio</th>\n",
       "      <td>NA</td>\n",
       "      <td>Dr. David W. Bullock is a Research Associate P...</td>\n",
       "      <td>James Caton is a faculty fellow at the NDSU Ce...</td>\n",
       "      <td>David Englund is a lecturer in the department....</td>\n",
       "      <td>Erik Hanson is an Assistant Professor in the D...</td>\n",
       "      <td>Ron Haugen is an Extension Farm Management Spe...</td>\n",
       "      <td>Dr. Bob Hearne has been in the Department of A...</td>\n",
       "      <td>Jeremy Jackson is the director of the NDSU Cen...</td>\n",
       "      <td>Siew Hoon Lim is an associate professor of eco...</td>\n",
       "      <td>David Roberts is an Assistant Professor of Agr...</td>\n",
       "      <td>Cheryl Wachenheim is a Professor in the Depart...</td>\n",
       "      <td>Lei Zhang is an Associate Professor of Economi...</td>\n",
       "    </tr>\n",
       "  </tbody>\n",
       "</table>\n",
       "</div>"
      ],
      "text/plain": [
       "                                                            William Nganje  \\\n",
       "Website                  https://www.ndsu.edu/agecon/faculty/william_ng...   \n",
       "Areas of Specialization  Risk management; financial analysis; economics...   \n",
       "Bio                                                                     NA   \n",
       "\n",
       "                                                             David Bullock  \\\n",
       "Website                  https://www.ndsu.edu/agecon/faculty/bullock/#c...   \n",
       "Areas of Specialization  futures and options markets, over-the-counter ...   \n",
       "Bio                      Dr. David W. Bullock is a Research Associate P...   \n",
       "\n",
       "                                                               James Caton  \\\n",
       "Website                  https://www.ndsu.edu/centers/pcpe/about/direct...   \n",
       "Areas of Specialization  Entrepreneurship, Institutions, Macroeconomics...   \n",
       "Bio                      James Caton is a faculty fellow at the NDSU Ce...   \n",
       "\n",
       "                                                             David Englund  \\\n",
       "Website                  https://www.ndsu.edu/agecon/faculty/englund/#c...   \n",
       "Areas of Specialization  Teaches Economic Principles, Led NDSU NAMA to ...   \n",
       "Bio                      David Englund is a lecturer in the department....   \n",
       "\n",
       "                                                               Erik Hanson  \\\n",
       "Website                  https://www.ndsu.edu/agecon/faculty/hanson/#c6...   \n",
       "Areas of Specialization                          Ag Management, Ag Finance   \n",
       "Bio                      Erik Hanson is an Assistant Professor in the D...   \n",
       "\n",
       "                                                             Ronald Haugen  \\\n",
       "Website                  https://www.ndsu.edu/agecon/about_us/faculty/r...   \n",
       "Areas of Specialization                         Farm Management Specialist   \n",
       "Bio                      Ron Haugen is an Extension Farm Management Spe...   \n",
       "\n",
       "                                                             Robert Hearne  \\\n",
       "Website                  https://www.ndsu.edu/agecon/faculty/hearne/#c6...   \n",
       "Areas of Specialization  Natural Resource Economics, Water Markets, Wel...   \n",
       "Bio                      Dr. Bob Hearne has been in the Department of A...   \n",
       "\n",
       "                                                            Jeremy Jackson  \\\n",
       "Website                  https://www.ndsu.edu/centers/pcpe/about/direct...   \n",
       "Areas of Specialization       Public Choice/Political Economy, Game Theory   \n",
       "Bio                      Jeremy Jackson is the director of the NDSU Cen...   \n",
       "\n",
       "                                                                  Siew Lim  \\\n",
       "Website                   https://www.ndsu.edu/agecon/faculty/lim/#c624837   \n",
       "Areas of Specialization  Transportation Economics and Applied Microecon...   \n",
       "Bio                      Siew Hoon Lim is an associate professor of eco...   \n",
       "\n",
       "                                                             David Roberts  \\\n",
       "Website                  https://www.ndsu.edu/agecon/faculty/roberts/#c...   \n",
       "Areas of Specialization                            Agricultural Economics    \n",
       "Bio                      David Roberts is an Assistant Professor of Agr...   \n",
       "\n",
       "                                                         Cheryl Wachenheim  \\\n",
       "Website                  https://www.ndsu.edu/agecon/faculty/wachenheim...   \n",
       "Areas of Specialization  Agricultural Economics, Agricultural Finance a...   \n",
       "Bio                      Cheryl Wachenheim is a Professor in the Depart...   \n",
       "\n",
       "                                                                 Lei Zhang  \n",
       "Website                  https://www.ndsu.edu/agecon/faculty/zhang/#c62...  \n",
       "Areas of Specialization  Applied Econometrics, Regional Economics, Housing  \n",
       "Bio                      Lei Zhang is an Associate Professor of Economi...  "
      ]
     },
     "execution_count": 39,
     "metadata": {},
     "output_type": "execute_result"
    }
   ],
   "source": [
    "faculty_df = pd.DataFrame(faculty_dict)\n",
    "# to save a dictionary as a dataframe, pass the dictionary to pd.DataFrame()\n",
    "faculty_df.to_csv(\"NDSUAAEFacultyInfo.csv\")\n",
    "faculty_df"
   ]
  }
 ],
 "metadata": {
  "kernelspec": {
   "display_name": "Python 3",
   "language": "python",
   "name": "python3"
  },
  "language_info": {
   "codemirror_mode": {
    "name": "ipython",
    "version": 3
   },
   "file_extension": ".py",
   "mimetype": "text/x-python",
   "name": "python",
   "nbconvert_exporter": "python",
   "pygments_lexer": "ipython3",
   "version": "3.8.3"
  }
 },
 "nbformat": 4,
 "nbformat_minor": 4
}
