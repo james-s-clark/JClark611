{
 "cells": [
  {
   "cell_type": "markdown",
   "metadata": {},
   "source": [
    "# My First Jupyter Notebook/Class Notes"
   ]
  },
  {
   "cell_type": "markdown",
   "metadata": {},
   "source": [
    "### <font color=green> From Dr. Caton: Class Purpose</font>"
   ]
  },
  {
   "cell_type": "markdown",
   "metadata": {},
   "source": [
    "*Your are in this class to learn how to use computational tools to support economic analysis. While the class is intended to improve your skills as economists, it will open many other doors for you. After this course you will have developed the foundational knowledge required to enter a variety of fields:*\n",
    "\n",
    " - __computational finance__\n",
    " - __data analysis data science__\n",
    " - __functional object oriented programming__\n",
    "\n",
    "*If you wish develop these skills, you will benefit from concurrently enrolling in econometrics, commodity trading, or courses in statistics and computer science.*\n",
    "\n",
    "*The goal of our first lesson is to get acquainted with Jupyter notebooks. Jupyter notebooks are ideal for building a portfolio that you can save on GitHub or as an html file that can be integrated into a personal website. Plan to showcase your work to impress interested employers.*\n",
    "\n",
    "*You will need to learn to work with Jupyter. Whenever you work on a project, it will be useful to keep open a list of keyboard shortcuts and a list of useful commands for altering text and creating useful structures (i.e, lists, hyperlinks, etc..) in markdown mode.*\n",
    "\n",
    "*All projects will need to be created using Jupyter notebooks.*"
   ]
  },
  {
   "cell_type": "markdown",
   "metadata": {},
   "source": [
    "## Dictionaries\n",
    "\n",
    "A dictionary is a \"*data structure that links keys to other objects.* An apt comparison would be the obvious - the *Merriam-Webster Dictionary* or even *Roget's Thesaurus*. In both cases, a key is directly linked to other information. In line from the two examples mentioned, let's start creating simple dictionaries - in these  examples, paralelling their common or colloquial definition."
   ]
  },
  {
   "cell_type": "markdown",
   "metadata": {},
   "source": [
    "### Example of a Simple Dictionary:"
   ]
  },
  {
   "cell_type": "markdown",
   "metadata": {},
   "source": [
    "First, to we must learn the basic coding to create a dictionary. Note: It is common to, at least first (I Hope), be frustrated. I will start this example in Markdown mode, for the purposes of emphasizing what keys are used in defining a dictionary.\n",
    "\n",
    "From the example given in class, let's look at the code itself, as we define, as verbs, to walk, and to run.\n",
    "\n",
    "dct = {\"run\": \"to move swiftly by foot\", \"walk\" : \"to move slowly, leasurely by foot\"}\n",
    "\n",
    "dct"
   ]
  },
  {
   "cell_type": "markdown",
   "metadata": {},
   "source": [
    "Note that to start and end the dictionary, we use the \"squiggly\" bracket. The \":\" character establishes the definition of our key, double apostrophe marks are necessary in both our key and its subsequent definition, and the comma seperates our two keys."
   ]
  },
  {
   "cell_type": "code",
   "execution_count": 3,
   "metadata": {},
   "outputs": [
    {
     "data": {
      "text/plain": [
       "{'run': 'to move swiftly by foot', 'walk': 'to move slowly, leasurely by foot'}"
      ]
     },
     "execution_count": 3,
     "metadata": {},
     "output_type": "execute_result"
    }
   ],
   "source": [
    "dct = {\"run\": \"to move swiftly by foot\",\n",
    "      \"walk\" : \"to move slowly, leasurely by foot\"}\n",
    "dct"
   ]
  },
  {
   "cell_type": "markdown",
   "metadata": {},
   "source": [
    "Before this, in our Jupyter notebook, all the text has been written in \"Markdown\" mode. Previous lines, where we actually defined our dictionary. Were written in \"Code\" mode. To switch between the two (or the two other options), utilize the dropdown menu near the middle of your Jupyter task bar.\n",
    "\n",
    "Also note that, for Jupyter to execute the demand, one holds the \"Ctrl\" and \"Enter\" buttons on your computer simultaneously."
   ]
  },
  {
   "cell_type": "markdown",
   "metadata": {},
   "source": [
    "From the class presentation, let's show an example where each key is linked to multiple objects."
   ]
  },
  {
   "cell_type": "markdown",
   "metadata": {},
   "source": [
    "Using the example from the class presentation lets, create a dictionary where a key is linked to multiple objects.\n",
    "\n",
    "We present this first in the markdown format.\n",
    "\n",
    "In class, Dr. Caton utilized the following code:\n",
    "\n",
    "dct = {\"run\": {\"verb\":\"to move swiftly by foot\", \"noun\":\"refers to a period of time while one was running\"}, \"walk\" :{\"verb\" : \"to move slowly, leasurely by foot\", \"noun\": \"refers to a period of time while one was walking\"}}\n",
    "\n",
    "dct"
   ]
  },
  {
   "cell_type": "markdown",
   "metadata": {},
   "source": [
    "It is worth paying attention to where the \"squibbly\" brackets are. It is easy to gloss over. But, in the meantime, we can move from Markdown to code."
   ]
  },
  {
   "cell_type": "code",
   "execution_count": 5,
   "metadata": {},
   "outputs": [
    {
     "data": {
      "text/plain": [
       "{'run': {'verb': 'to move swiftly by foot',\n",
       "  'noun': 'refers to a period of time while one was running'},\n",
       " 'walk': {'verb': 'to move slowly, leasurely by foot',\n",
       "  'noun': 'refers to a period of time while one was walking'}}"
      ]
     },
     "execution_count": 5,
     "metadata": {},
     "output_type": "execute_result"
    }
   ],
   "source": [
    "dct = {\"run\": {\"verb\":\"to move swiftly by foot\", \n",
    "               \"noun\":\"refers to a period of time while one was running\"},\n",
    "       \"walk\" :{\"verb\" : \"to move slowly, leasurely by foot\",\n",
    "                \"noun\": \"refers to a period of time while one was walking\"}}\n",
    "dct"
   ]
  },
  {
   "cell_type": "markdown",
   "metadata": {},
   "source": [
    "We can now create a DataFrame."
   ]
  },
  {
   "cell_type": "code",
   "execution_count": 8,
   "metadata": {},
   "outputs": [
    {
     "data": {
      "text/html": [
       "<div>\n",
       "<style scoped>\n",
       "    .dataframe tbody tr th:only-of-type {\n",
       "        vertical-align: middle;\n",
       "    }\n",
       "\n",
       "    .dataframe tbody tr th {\n",
       "        vertical-align: top;\n",
       "    }\n",
       "\n",
       "    .dataframe thead th {\n",
       "        text-align: right;\n",
       "    }\n",
       "</style>\n",
       "<table border=\"1\" class=\"dataframe\">\n",
       "  <thead>\n",
       "    <tr style=\"text-align: right;\">\n",
       "      <th></th>\n",
       "      <th>run</th>\n",
       "      <th>walk</th>\n",
       "    </tr>\n",
       "  </thead>\n",
       "  <tbody>\n",
       "    <tr>\n",
       "      <th>verb</th>\n",
       "      <td>to move swiftly by foot</td>\n",
       "      <td>to move slowly, leasurely by foot</td>\n",
       "    </tr>\n",
       "    <tr>\n",
       "      <th>noun</th>\n",
       "      <td>refers to a period of time while one was running</td>\n",
       "      <td>refers to a period of time while one was walking</td>\n",
       "    </tr>\n",
       "  </tbody>\n",
       "</table>\n",
       "</div>"
      ],
      "text/plain": [
       "                                                   run  \\\n",
       "verb                           to move swiftly by foot   \n",
       "noun  refers to a period of time while one was running   \n",
       "\n",
       "                                                  walk  \n",
       "verb                 to move slowly, leasurely by foot  \n",
       "noun  refers to a period of time while one was walking  "
      ]
     },
     "execution_count": 8,
     "metadata": {},
     "output_type": "execute_result"
    }
   ],
   "source": [
    "import pandas as pd\n",
    "df = pd.DataFrame(dct)\n",
    "df"
   ]
  },
  {
   "cell_type": "markdown",
   "metadata": {},
   "source": [
    "### Another Example\n",
    "\n",
    "In class, we linked students to particular attributes, in this case, age and interesting fact."
   ]
  },
  {
   "cell_type": "code",
   "execution_count": 10,
   "metadata": {},
   "outputs": [
    {
     "data": {
      "text/plain": [
       "{'Tyler': {},\n",
       " 'Emmanuel': {},\n",
       " 'Amanda': {},\n",
       " 'Logan': {},\n",
       " 'Connor': {},\n",
       " 'Dylan': {},\n",
       " 'Gwen': {},\n",
       " 'Jack': {},\n",
       " 'Ben': {},\n",
       " 'James': {}}"
      ]
     },
     "execution_count": 10,
     "metadata": {},
     "output_type": "execute_result"
    }
   ],
   "source": [
    "dct = {\"Tyler\": {},\n",
    "       \"Emmanuel\": {},\n",
    "       \"Amanda\":{}, \n",
    "       \"Logan\":{},\n",
    "       \"Connor\":{}, \n",
    "       \"Dylan\":{},\n",
    "       \"Gwen\":{}, \n",
    "       \"Jack\":{}, \n",
    "       \"Ben\":{},\n",
    "       \"James\":{}}\n",
    "dct"
   ]
  },
  {
   "cell_type": "markdown",
   "metadata": {},
   "source": [
    "*Note: For pedagogical reasons, we have initially left these blank, as it will be easier to fill in the information later, as opposed to doing each one at a time, but we will fill them now with the relevant information*"
   ]
  },
  {
   "cell_type": "code",
   "execution_count": 31,
   "metadata": {},
   "outputs": [
    {
     "data": {
      "text/plain": [
       "{'Tyler': {'Age': '21',\n",
       "  'Interesting Fact': 'I am left-handed / ambidextrious!'},\n",
       " 'Emmanuel': {'Age': '32', 'Interesting Fact': 'I have 7 degrees.'},\n",
       " 'Logan': {'Age': '22', 'Interesting Fact': 'I fight fires'},\n",
       " 'Connor': {'Age': '21', 'Interesting Fact': 'I play Tennis'},\n",
       " 'Dylan': {'Age': '21', 'Interesting Fact': 'I am a Triplet'},\n",
       " 'Gwen': {'Age': '23',\n",
       "  'Interseting Fact': 'I Bought My First Cow When I was 10'},\n",
       " 'Jack': {'Age': '21', 'Interesting Fact': 'I Have Never Broken a Bone'},\n",
       " 'Ben': {'Age': '23', 'Interesting Fact': 'I like basketball'},\n",
       " 'James': {'Age': '28', 'Interesting Fact': \"I'm From Bejou\"}}"
      ]
     },
     "execution_count": 31,
     "metadata": {},
     "output_type": "execute_result"
    }
   ],
   "source": [
    "{'Tyler': {\"Age\":\"21\", 'Interesting Fact': 'I am left-handed / ambidextrious!'},\n",
    " 'Emmanuel': {\"Age\":\"32\",\"Interesting Fact\":\"I have 7 degrees.\"},\n",
    " 'Logan': {\"Age\":\"22\",\"Interesting Fact\":\"I fight fires\"},\n",
    " 'Connor': {\"Age\":\"21\",\"Interesting Fact\":\"I play Tennis\"},\n",
    " 'Dylan': {\"Age\":\"21\",\"Interesting Fact\":\"I am a Triplet\"},\n",
    " 'Gwen': {\"Age\":\"23\",\"Interseting Fact\":\"I Bought My First Cow When I was 10\"},\n",
    " 'Jack': {\"Age\":\"21\",\"Interesting Fact\":\"I Have Never Broken a Bone\"},\n",
    " 'Ben': {\"Age\":\"23\",\"Interesting Fact\":\"I like basketball\"},\n",
    " 'James': {\"Age\":\"28\",\"Interesting Fact\":\"I'm From Bejou\"}}"
   ]
  },
  {
   "cell_type": "markdown",
   "metadata": {},
   "source": [
    " Dr. Caton recommended that it could be easier to utilize the following method, whereby we could, with different attributes, focus on one key at a time.\n",
    "\n",
    "The following comes from Dr. Caton's notes:"
   ]
  },
  {
   "cell_type": "code",
   "execution_count": 33,
   "metadata": {},
   "outputs": [
    {
     "data": {
      "text/plain": [
       "{'Tyler': {'Age': '21',\n",
       "  'Interesting Fact': 'I am left-handed / ambidextrious!'},\n",
       " 'Emmanuel': {'Age': 32,\n",
       "  'Interesting Fact': \"I have 7 degrees!!! And I'm earning the M.S. Data Analytics\"},\n",
       " 'Logan': {'Age': 22, 'Interesting Fact': 'I fight fires!'},\n",
       " 'Connor': {'Age': 21, 'Interesting Fact': 'I like to play tennis!'},\n",
       " 'Dylan': {'Age': 21, 'Interesting Fact': 'I am a triplet!'},\n",
       " 'Gwen': {'Age': 23,\n",
       "  'Interesting Fact': 'I bought my first cow when I was 10 years old!'},\n",
       " 'Jack': {'Age': 21, 'Interesting Fact': 'I have never broken a bone!'},\n",
       " 'Ben': {'Age': 23, 'Interesting Fact': 'I like basketball!'},\n",
       " 'James': {'Age': 28, 'Interesting Fact': 'I am from Bejou!'}}"
      ]
     },
     "execution_count": 33,
     "metadata": {},
     "output_type": "execute_result"
    }
   ],
   "source": [
    "dct[\"Emmanuel\"][\"Age\"] = 32\n",
    "dct[\"Emmanuel\"][\"Interesting Fact\"] = \"I have 7 degrees!!! And I'm earning the M.S. Data Analytics\"\n",
    "dct[\"Dylan\"][\"Age\"] = 21\n",
    "dct[\"Dylan\"][\"Interesting Fact\"] = \"I am a triplet!\"\n",
    "dct[\"Jack\"][\"Age\"] = 21\n",
    "dct[\"Jack\"][\"Interesting Fact\"] = \"I have never broken a bone!\" \n",
    "dct[\"Logan\"][\"Age\"] = 22\n",
    "dct[\"Logan\"][\"Interesting Fact\"] = \"I fight fires!\"\n",
    "dct[\"Gwen\"][\"Age\"] = 23\n",
    "dct[\"Gwen\"][\"Interesting Fact\"] = \"I bought my first cow when I was 10 years old!\"\n",
    "dct[\"James\"][\"Age\"] = 28\n",
    "dct[\"James\"][\"Interesting Fact\"] = \"I am from Bejou!\"\n",
    "dct[\"Ben\"][\"Age\"] = 23\n",
    "dct[\"Ben\"][\"Interesting Fact\"] = \"I like basketball!\"\n",
    "dct[\"Connor\"][\"Age\"] = 21\n",
    "dct[\"Connor\"][\"Interesting Fact\"] = \"I like to play tennis!\"\n",
    "\n",
    "dct"
   ]
  },
  {
   "cell_type": "code",
   "execution_count": 36,
   "metadata": {},
   "outputs": [
    {
     "data": {
      "text/html": [
       "<div>\n",
       "<style scoped>\n",
       "    .dataframe tbody tr th:only-of-type {\n",
       "        vertical-align: middle;\n",
       "    }\n",
       "\n",
       "    .dataframe tbody tr th {\n",
       "        vertical-align: top;\n",
       "    }\n",
       "\n",
       "    .dataframe thead th {\n",
       "        text-align: right;\n",
       "    }\n",
       "</style>\n",
       "<table border=\"1\" class=\"dataframe\">\n",
       "  <thead>\n",
       "    <tr style=\"text-align: right;\">\n",
       "      <th></th>\n",
       "      <th>Tyler</th>\n",
       "      <th>Emmanuel</th>\n",
       "      <th>Logan</th>\n",
       "      <th>Connor</th>\n",
       "      <th>Dylan</th>\n",
       "      <th>Gwen</th>\n",
       "      <th>Jack</th>\n",
       "      <th>Ben</th>\n",
       "      <th>James</th>\n",
       "    </tr>\n",
       "  </thead>\n",
       "  <tbody>\n",
       "    <tr>\n",
       "      <th>Age</th>\n",
       "      <td>21</td>\n",
       "      <td>32</td>\n",
       "      <td>22</td>\n",
       "      <td>21</td>\n",
       "      <td>21</td>\n",
       "      <td>23</td>\n",
       "      <td>21</td>\n",
       "      <td>23</td>\n",
       "      <td>28</td>\n",
       "    </tr>\n",
       "    <tr>\n",
       "      <th>Interesting Fact</th>\n",
       "      <td>I am left-handed / ambidextrious!</td>\n",
       "      <td>I have 7 degrees!!! And I'm earning the M.S. D...</td>\n",
       "      <td>I fight fires!</td>\n",
       "      <td>I like to play tennis!</td>\n",
       "      <td>I am a triplet!</td>\n",
       "      <td>I bought my first cow when I was 10 years old!</td>\n",
       "      <td>I have never broken a bone!</td>\n",
       "      <td>I like basketball!</td>\n",
       "      <td>I am from Bejou!</td>\n",
       "    </tr>\n",
       "  </tbody>\n",
       "</table>\n",
       "</div>"
      ],
      "text/plain": [
       "                                              Tyler  \\\n",
       "Age                                              21   \n",
       "Interesting Fact  I am left-handed / ambidextrious!   \n",
       "\n",
       "                                                           Emmanuel  \\\n",
       "Age                                                              32   \n",
       "Interesting Fact  I have 7 degrees!!! And I'm earning the M.S. D...   \n",
       "\n",
       "                           Logan                  Connor            Dylan  \\\n",
       "Age                           22                      21               21   \n",
       "Interesting Fact  I fight fires!  I like to play tennis!  I am a triplet!   \n",
       "\n",
       "                                                            Gwen  \\\n",
       "Age                                                           23   \n",
       "Interesting Fact  I bought my first cow when I was 10 years old!   \n",
       "\n",
       "                                         Jack                 Ben  \\\n",
       "Age                                        21                  23   \n",
       "Interesting Fact  I have never broken a bone!  I like basketball!   \n",
       "\n",
       "                             James  \n",
       "Age                             28  \n",
       "Interesting Fact  I am from Bejou!  "
      ]
     },
     "execution_count": 36,
     "metadata": {},
     "output_type": "execute_result"
    }
   ],
   "source": [
    "df = pd.DataFrame(dct)\n",
    "df"
   ]
  },
  {
   "cell_type": "markdown",
   "metadata": {},
   "source": [
    "##"
   ]
  }
 ],
 "metadata": {
  "kernelspec": {
   "display_name": "Python 3",
   "language": "python",
   "name": "python3"
  },
  "language_info": {
   "codemirror_mode": {
    "name": "ipython",
    "version": 3
   },
   "file_extension": ".py",
   "mimetype": "text/x-python",
   "name": "python",
   "nbconvert_exporter": "python",
   "pygments_lexer": "ipython3",
   "version": "3.8.3"
  }
 },
 "nbformat": 4,
 "nbformat_minor": 4
}
