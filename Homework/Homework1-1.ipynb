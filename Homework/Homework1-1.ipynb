{
 "cells": [
  {
   "cell_type": "markdown",
   "metadata": {},
   "source": [
    "# James Clark Homework 1-1"
   ]
  },
  {
   "cell_type": "markdown",
   "metadata": {},
   "source": [
    "## Create a dictionary that identifies your name, major(s)/minor(s), motivation for taking the course, and plans for after you graduate from NDSU. Transform this into a datframe. Print the dataframe and save the datframe as a csv"
   ]
  },
  {
   "cell_type": "code",
   "execution_count": 2,
   "metadata": {},
   "outputs": [
    {
     "data": {
      "text/plain": [
       "{'James SL Clark': {'Majors/Minors': 'Economics and Agribusiness',\n",
       "  'Motivation for Taking the Course': 'To develop an ability in data science',\n",
       "  'Post Graduate Plans': 'To find a career'}}"
      ]
     },
     "execution_count": 2,
     "metadata": {},
     "output_type": "execute_result"
    }
   ],
   "source": [
    "dict = {\"James SL Clark\":{\"Majors/Minors\":\"Economics and Agribusiness\",\"Motivation for Taking the Course\":\"To develop an ability in data science\",\"Post Graduate Plans\":\"To find a career\"}}\n",
    "dict   "
   ]
  },
  {
   "cell_type": "code",
   "execution_count": 5,
   "metadata": {},
   "outputs": [],
   "source": [
    "import pandas as pd"
   ]
  },
  {
   "cell_type": "code",
   "execution_count": 6,
   "metadata": {},
   "outputs": [
    {
     "data": {
      "text/html": [
       "<div>\n",
       "<style scoped>\n",
       "    .dataframe tbody tr th:only-of-type {\n",
       "        vertical-align: middle;\n",
       "    }\n",
       "\n",
       "    .dataframe tbody tr th {\n",
       "        vertical-align: top;\n",
       "    }\n",
       "\n",
       "    .dataframe thead th {\n",
       "        text-align: right;\n",
       "    }\n",
       "</style>\n",
       "<table border=\"1\" class=\"dataframe\">\n",
       "  <thead>\n",
       "    <tr style=\"text-align: right;\">\n",
       "      <th></th>\n",
       "      <th>James SL Clark</th>\n",
       "    </tr>\n",
       "  </thead>\n",
       "  <tbody>\n",
       "    <tr>\n",
       "      <th>Majors/Minors</th>\n",
       "      <td>Economics and Agribusiness</td>\n",
       "    </tr>\n",
       "    <tr>\n",
       "      <th>Motivation for Taking the Course</th>\n",
       "      <td>To develop an ability in data science</td>\n",
       "    </tr>\n",
       "    <tr>\n",
       "      <th>Post Graduate Plans</th>\n",
       "      <td>To find a career</td>\n",
       "    </tr>\n",
       "  </tbody>\n",
       "</table>\n",
       "</div>"
      ],
      "text/plain": [
       "                                                         James SL Clark\n",
       "Majors/Minors                                Economics and Agribusiness\n",
       "Motivation for Taking the Course  To develop an ability in data science\n",
       "Post Graduate Plans                                    To find a career"
      ]
     },
     "execution_count": 6,
     "metadata": {},
     "output_type": "execute_result"
    }
   ],
   "source": [
    "dict_df = pd.DataFrame(dict)\n",
    "# to save a dictionary as a dataframe, pass the dictionary to pd.DataFrame()\n",
    "dict_df.to_csv(\"Homework11.csv\")\n",
    "dict_df"
   ]
  }
 ],
 "metadata": {
  "kernelspec": {
   "display_name": "Python 3",
   "language": "python",
   "name": "python3"
  },
  "language_info": {
   "codemirror_mode": {
    "name": "ipython",
    "version": 3
   },
   "file_extension": ".py",
   "mimetype": "text/x-python",
   "name": "python",
   "nbconvert_exporter": "python",
   "pygments_lexer": "ipython3",
   "version": "3.8.3"
  }
 },
 "nbformat": 4,
 "nbformat_minor": 4
}
