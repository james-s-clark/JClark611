{
 "cells": [
  {
   "cell_type": "markdown",
   "metadata": {},
   "source": [
    "# Is College Education a Public Good?\n",
    "\n",
    "## Introduction\n",
    "Numerous studies have shown that increased education is associated with greater earnings and life outcomes. In general, those with greater education will out-earn those with less. There is a rich history in labor economics estimating the exact value to an additional year of schooling. For instance, using the natural experiment of the Vietnam draft lottery, Angrist and Krueger estimated that an additional year of schooling increased education by 6.6%.\n",
    "\n",
    "However, most economists will say that basic education has some characteristics of a common good. Public policy in the United States has reflected this as far back as the colonial era. In New England, colonists emphasized the need for literacy to both enforce puritan religious ethics as well as increase civic participation. In the present context, the education as a public good can be justified as creating a job market with less structural unemployment and a society with less crime and greater income mobility. In addition, Nobel Prize winning economist James Heckman has emphasized the role of the development of “soft skills” in early and intermediate education.\n",
    "\n",
    "In the present context, compulsory K-12 education is funded at the municipal, state, and federal levels, with each student receiving schooling regardless of ability to pay. While many would agree that the subsidization of education of children and adolescents is a collective interest, the extent that the government should encourage and fund attainment of higher education is a matter of debate. \n",
    "\n",
    "Currently, higher education is funded by both private and public interests. The largest part of a student loan package is the Pell Grant. The Pell-Grant is a federally funded means tested program, with the  average student receiving a $4,270 grant per year to fund a student’s college education. Further, the federal government offers subsidized student loans where the student does not accrue interest over the duration of their time in school. In addition, if these programs do not fully address tuition cost, college students can take on debt from private banks.\n",
    "\n",
    "Absent the less tractably calculable benefits, like civic participation, one measure of the externality associated with increased levels of higher education would be the change in broad-based income. It has been established that increased education has private returns; however, it is still a matter of contention what the public returns are. \n",
    "\n",
    "The theoretical framework is ambiguous as to this question. Acemogulu and Angrist postulate that increased college attainment may increase total factor productivity through the “exchange of ideas, imitation, or learning by doing.” \n",
    "\n",
    "Alternatively, in models where education is merely a signaling device for innate productivity, public subsidies merely distort the signal. This could be an explanation of the phenomena of “degree inflation,” whereby jobs that previously only required a high school education or less now require higher education. In this framework, we could consider higher education as having a positional externality, whereby the increase in one’s educational attainment comes at the cost of reducing the relative value of another.\n",
    "\n",
    "## Data and Model\n",
    "\n",
    "To address the question, I propose to measure the externality from increased attainment of higher education.\n",
    "\n",
    "To accomplish this, I use publicly available data from the American Community Survey as accessed through the Integrated Public Use Microdata Series (IPUMS). This dataset includes cross sectional information about income, age, sex, race, level of education, unemployment status, employment sector, regional location, and marital and veteran status. Further, I have linked the city-code to the percentage of a city’s population has a Bachelor’s degree or higher.\n",
    "\n",
    "I seek to estimate the parameters of the following function:\n",
    "\n",
    "$INC = \\beta_0 + \\beta_1 x_1 +  \\sum \\limits _{j=2} ^{n} {\\beta}_{i}x_{i}$\n",
    "\n",
    "Where $INC$ is personal wage income, $x_1$ is the measure for city level college attainment, and the remaining $n-1$ explanatory variables are controls for other individual characteristics.\n",
    "\n",
    "\n",
    "\n",
    "\n",
    " \n"
   ]
  }
 ],
 "metadata": {
  "kernelspec": {
   "display_name": "Python 3",
   "language": "python",
   "name": "python3"
  },
  "language_info": {
   "codemirror_mode": {
    "name": "ipython",
    "version": 3
   },
   "file_extension": ".py",
   "mimetype": "text/x-python",
   "name": "python",
   "nbconvert_exporter": "python",
   "pygments_lexer": "ipython3",
   "version": "3.8.3"
  }
 },
 "nbformat": 4,
 "nbformat_minor": 4
}
