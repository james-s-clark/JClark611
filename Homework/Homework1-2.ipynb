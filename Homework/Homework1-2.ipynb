{
 "cells": [
  {
   "cell_type": "markdown",
   "metadata": {},
   "source": [
    "# James Clark Homework 1-2"
   ]
  },
  {
   "cell_type": "markdown",
   "metadata": {},
   "source": [
    "## Create a dictionary with the same structure as the dictionary we created in the in class project for 10 professionals or specialists that you admire. The dictionary should include keys that identify the name of the professional, their area of expertise, a short biography, and a link to their website (or social media profile if no website is available). Print the dataframe and save this dataframe as a csv"
   ]
  },
  {
   "cell_type": "code",
   "execution_count": 3,
   "metadata": {},
   "outputs": [
    {
     "data": {
      "text/plain": [
       "{'1': {'Expertise': 'X', 'Bio': 'X', 'Website': 'http'},\n",
       " '2': {'Expertise': 'X', 'Bio': 'X', 'Website': 'http'},\n",
       " '3': {'Expertise': 'X', 'Bio': 'X', 'Website': 'http'},\n",
       " '4': {'Expertise': 'X', 'Bio': 'X', 'Website': 'http'},\n",
       " '5': {'Expertise': 'X', 'Bio': 'X', 'Website': 'http'},\n",
       " '6': {'Expertise': 'X', 'Bio': 'X', 'Website': 'http'},\n",
       " '7': {'Expertise': 'X', 'Bio': 'X', 'Website': 'http'},\n",
       " '8': {'Expertise': 'X', 'Bio': 'X', 'Website': 'http'},\n",
       " '9': {'Expertise': 'X', 'Bio': 'X', 'Website': 'http'},\n",
       " '10': {'Expertise': 'X', 'Bio': 'X', 'Website': 'http'}}"
      ]
     },
     "execution_count": 3,
     "metadata": {},
     "output_type": "execute_result"
    }
   ],
   "source": [
    "# To Expediate this Process, Let's Get The Baseline Prepared, so we can just plug in later.\n",
    "dic = {\"1\":{\"Expertise\":\"X\",\"Bio\":\"X\",\"Website\":\"http\"},\n",
    "\"2\":{\"Expertise\":\"X\",\"Bio\":\"X\",\"Website\":\"http\"},\n",
    "\"3\":{\"Expertise\":\"X\",\"Bio\":\"X\",\"Website\":\"http\"},\n",
    "\"4\":{\"Expertise\":\"X\",\"Bio\":\"X\",\"Website\":\"http\"}, \n",
    "\"5\":{\"Expertise\":\"X\",\"Bio\":\"X\",\"Website\":\"http\"}, \n",
    "\"6\":{\"Expertise\":\"X\",\"Bio\":\"X\",\"Website\":\"http\"}, \n",
    "\"7\":{\"Expertise\":\"X\",\"Bio\":\"X\",\"Website\":\"http\"}, \n",
    "\"8\":{\"Expertise\":\"X\",\"Bio\":\"X\",\"Website\":\"http\"},\n",
    "\"9\":{\"Expertise\":\"X\",\"Bio\":\"X\",\"Website\":\"http\"},\n",
    "\"10\":{\"Expertise\":\"X\",\"Bio\":\"X\",\"Website\":\"http\"}}\n",
    "dic"
   ]
  },
  {
   "cell_type": "code",
   "execution_count": 5,
   "metadata": {},
   "outputs": [
    {
     "data": {
      "text/plain": [
       "{'Austan Goolsbee': {'Expertise': 'Economics',\n",
       "  'Bio': 'University of Chicago Economics Professor, former Head of CEA',\n",
       "  'Website': 'https://www.chicagobooth.edu/faculty/directory/g/austan-d-goolsbee'},\n",
       " 'Thomas Piketty': {'Expertise': 'Economic Inequality',\n",
       "  'Bio': 'French Economist famous for his book Capital in the 21st Century',\n",
       "  'Website': 'http://piketty.pse.ens.fr/en/cv-en'},\n",
       " 'William Tecumseh Sherman': {'Expertise': 'Civil War General',\n",
       "  'Bio': 'Union Civil War General noted for his excursions into Atlanta ',\n",
       "  'Website': 'http://www.gutenberg.org/files/4361/old/orig4361-h/main.htm'},\n",
       " 'Matt Taibbi': {'Expertise': 'Journalism',\n",
       "  'Bio': 'Freelance writer, formerly of the Exile, NY Press, and Rolling Stone',\n",
       "  'Website': 'https://taibbi.substack.com'},\n",
       " 'Will Leitch': {'Expertise': 'Author/Writer',\n",
       "  'Bio': 'Founder of Deadspin, contributor to several publications.',\n",
       "  'Website': 'https://leitch.tumblr.com'},\n",
       " 'Bob Dylan': {'Expertise': 'Folk',\n",
       "  'Bio': 'A traditional folk musician whose later work experimented with the format',\n",
       "  'Website': 'http://www.bobdylan.com'},\n",
       " 'Norm MacDonald': {'Expertise': 'Stand-Up Comedy',\n",
       "  'Bio': 'Canadian SNL alumni whose humor is dry and absurd',\n",
       "  'Website': 'https://twitter.com/normmacdonald'},\n",
       " 'Adam Thielen': {'Expertise': 'Minnesota Vikings Wide Reciever',\n",
       "  'Bio': 'Undrafted from Mankato State, he is now regarded as top player.',\n",
       "  'Website': 'https://twitter.com/athielen19'},\n",
       " 'Kirk Cousins': {'Expertise': 'Minnesota Vikings Quarterback',\n",
       "  'Bio': 'Formerly of the Washington Football team, Cousins has offered consistency to an otherwise chaotic team',\n",
       "  'Website': 'https://kirkcousins.org'},\n",
       " 'Kyle Rudolph': {'Expertise': 'Minnesota Vikings Tight End',\n",
       "  'Bio': 'Starting Tight End noted for his charitable contributions',\n",
       "  'Website': 'https://twitter.com/KyleRudolph82'}}"
      ]
     },
     "execution_count": 5,
     "metadata": {},
     "output_type": "execute_result"
    }
   ],
   "source": [
    "dic = {\"Austan Goolsbee\":{\"Expertise\":\"Economics\",\"Bio\":\"University of Chicago Economics Professor, former Head of CEA\",\"Website\":\"https://www.chicagobooth.edu/faculty/directory/g/austan-d-goolsbee\"},\n",
    "\"Thomas Piketty\":{\"Expertise\":\"Economic Inequality\",\"Bio\":\"French Economist famous for his book Capital in the 21st Century\",\"Website\":\"http://piketty.pse.ens.fr/en/cv-en\"},\n",
    "\"William Tecumseh Sherman\":{\"Expertise\":\"Civil War General\",\"Bio\":\"Union Civil War General noted for his excursions into Atlanta \",\"Website\":\"http://www.gutenberg.org/files/4361/old/orig4361-h/main.htm\"},\n",
    "\"Matt Taibbi\":{\"Expertise\":\"Journalism\",\"Bio\":\"Freelance writer, formerly of the Exile, NY Press, and Rolling Stone\",\"Website\":\"https://taibbi.substack.com\"}, \n",
    "\"Will Leitch\":{\"Expertise\":\"Author/Writer\",\"Bio\":\"Founder of Deadspin, contributor to several publications.\",\"Website\":\"https://leitch.tumblr.com\"}, \n",
    "\"Bob Dylan\":{\"Expertise\":\"Folk\",\"Bio\":\"A traditional folk musician whose later work experimented with the format\",\"Website\":\"http://www.bobdylan.com\"}, \n",
    "\"Norm MacDonald\":{\"Expertise\":\"Stand-Up Comedy\",\"Bio\":\"Canadian SNL alumni whose humor is dry and absurd\",\"Website\":\"https://twitter.com/normmacdonald\"}, \n",
    "\"Adam Thielen\":{\"Expertise\":\"Minnesota Vikings Wide Reciever\",\"Bio\":\"Undrafted from Mankato State, he is now regarded as top player.\",\"Website\":\"https://twitter.com/athielen19\"},\n",
    "\"Kirk Cousins\":{\"Expertise\":\"Minnesota Vikings Quarterback\",\"Bio\":\"Formerly of the Washington Football team, Cousins has offered consistency to an otherwise chaotic team\",\"Website\":\"https://kirkcousins.org\"},\n",
    "\"Kyle Rudolph\":{\"Expertise\":\"Minnesota Vikings Tight End\",\"Bio\":\"Starting Tight End noted for his charitable contributions\",\"Website\":\"https://twitter.com/KyleRudolph82\"}}\n",
    "dic"
   ]
  },
  {
   "cell_type": "code",
   "execution_count": 7,
   "metadata": {},
   "outputs": [],
   "source": [
    "import pandas as pd"
   ]
  },
  {
   "cell_type": "code",
   "execution_count": 8,
   "metadata": {},
   "outputs": [
    {
     "data": {
      "text/html": [
       "<div>\n",
       "<style scoped>\n",
       "    .dataframe tbody tr th:only-of-type {\n",
       "        vertical-align: middle;\n",
       "    }\n",
       "\n",
       "    .dataframe tbody tr th {\n",
       "        vertical-align: top;\n",
       "    }\n",
       "\n",
       "    .dataframe thead th {\n",
       "        text-align: right;\n",
       "    }\n",
       "</style>\n",
       "<table border=\"1\" class=\"dataframe\">\n",
       "  <thead>\n",
       "    <tr style=\"text-align: right;\">\n",
       "      <th></th>\n",
       "      <th>Austan Goolsbee</th>\n",
       "      <th>Thomas Piketty</th>\n",
       "      <th>William Tecumseh Sherman</th>\n",
       "      <th>Matt Taibbi</th>\n",
       "      <th>Will Leitch</th>\n",
       "      <th>Bob Dylan</th>\n",
       "      <th>Norm MacDonald</th>\n",
       "      <th>Adam Thielen</th>\n",
       "      <th>Kirk Cousins</th>\n",
       "      <th>Kyle Rudolph</th>\n",
       "    </tr>\n",
       "  </thead>\n",
       "  <tbody>\n",
       "    <tr>\n",
       "      <th>Expertise</th>\n",
       "      <td>Economics</td>\n",
       "      <td>Economic Inequality</td>\n",
       "      <td>Civil War General</td>\n",
       "      <td>Journalism</td>\n",
       "      <td>Author/Writer</td>\n",
       "      <td>Folk</td>\n",
       "      <td>Stand-Up Comedy</td>\n",
       "      <td>Minnesota Vikings Wide Reciever</td>\n",
       "      <td>Minnesota Vikings Quarterback</td>\n",
       "      <td>Minnesota Vikings Tight End</td>\n",
       "    </tr>\n",
       "    <tr>\n",
       "      <th>Bio</th>\n",
       "      <td>University of Chicago Economics Professor, for...</td>\n",
       "      <td>French Economist famous for his book Capital i...</td>\n",
       "      <td>Union Civil War General noted for his excursio...</td>\n",
       "      <td>Freelance writer, formerly of the Exile, NY Pr...</td>\n",
       "      <td>Founder of Deadspin, contributor to several pu...</td>\n",
       "      <td>A traditional folk musician whose later work e...</td>\n",
       "      <td>Canadian SNL alumni whose humor is dry and absurd</td>\n",
       "      <td>Undrafted from Mankato State, he is now regard...</td>\n",
       "      <td>Formerly of the Washington Football team, Cous...</td>\n",
       "      <td>Starting Tight End noted for his charitable co...</td>\n",
       "    </tr>\n",
       "    <tr>\n",
       "      <th>Website</th>\n",
       "      <td>https://www.chicagobooth.edu/faculty/directory...</td>\n",
       "      <td>http://piketty.pse.ens.fr/en/cv-en</td>\n",
       "      <td>http://www.gutenberg.org/files/4361/old/orig43...</td>\n",
       "      <td>https://taibbi.substack.com</td>\n",
       "      <td>https://leitch.tumblr.com</td>\n",
       "      <td>http://www.bobdylan.com</td>\n",
       "      <td>https://twitter.com/normmacdonald</td>\n",
       "      <td>https://twitter.com/athielen19</td>\n",
       "      <td>https://kirkcousins.org</td>\n",
       "      <td>https://twitter.com/KyleRudolph82</td>\n",
       "    </tr>\n",
       "  </tbody>\n",
       "</table>\n",
       "</div>"
      ],
      "text/plain": [
       "                                             Austan Goolsbee  \\\n",
       "Expertise                                          Economics   \n",
       "Bio        University of Chicago Economics Professor, for...   \n",
       "Website    https://www.chicagobooth.edu/faculty/directory...   \n",
       "\n",
       "                                              Thomas Piketty  \\\n",
       "Expertise                                Economic Inequality   \n",
       "Bio        French Economist famous for his book Capital i...   \n",
       "Website                   http://piketty.pse.ens.fr/en/cv-en   \n",
       "\n",
       "                                    William Tecumseh Sherman  \\\n",
       "Expertise                                  Civil War General   \n",
       "Bio        Union Civil War General noted for his excursio...   \n",
       "Website    http://www.gutenberg.org/files/4361/old/orig43...   \n",
       "\n",
       "                                                 Matt Taibbi  \\\n",
       "Expertise                                         Journalism   \n",
       "Bio        Freelance writer, formerly of the Exile, NY Pr...   \n",
       "Website                          https://taibbi.substack.com   \n",
       "\n",
       "                                                 Will Leitch  \\\n",
       "Expertise                                      Author/Writer   \n",
       "Bio        Founder of Deadspin, contributor to several pu...   \n",
       "Website                            https://leitch.tumblr.com   \n",
       "\n",
       "                                                   Bob Dylan  \\\n",
       "Expertise                                               Folk   \n",
       "Bio        A traditional folk musician whose later work e...   \n",
       "Website                              http://www.bobdylan.com   \n",
       "\n",
       "                                              Norm MacDonald  \\\n",
       "Expertise                                    Stand-Up Comedy   \n",
       "Bio        Canadian SNL alumni whose humor is dry and absurd   \n",
       "Website                    https://twitter.com/normmacdonald   \n",
       "\n",
       "                                                Adam Thielen  \\\n",
       "Expertise                    Minnesota Vikings Wide Reciever   \n",
       "Bio        Undrafted from Mankato State, he is now regard...   \n",
       "Website                       https://twitter.com/athielen19   \n",
       "\n",
       "                                                Kirk Cousins  \\\n",
       "Expertise                      Minnesota Vikings Quarterback   \n",
       "Bio        Formerly of the Washington Football team, Cous...   \n",
       "Website                              https://kirkcousins.org   \n",
       "\n",
       "                                                Kyle Rudolph  \n",
       "Expertise                        Minnesota Vikings Tight End  \n",
       "Bio        Starting Tight End noted for his charitable co...  \n",
       "Website                    https://twitter.com/KyleRudolph82  "
      ]
     },
     "execution_count": 8,
     "metadata": {},
     "output_type": "execute_result"
    }
   ],
   "source": [
    "dic_df = pd.DataFrame(dic)\n",
    "dic_df.to_csv(\"Homework12.csv\")\n",
    "dic_df"
   ]
  }
 ],
 "metadata": {
  "kernelspec": {
   "display_name": "Python 3",
   "language": "python",
   "name": "python3"
  },
  "language_info": {
   "codemirror_mode": {
    "name": "ipython",
    "version": 3
   },
   "file_extension": ".py",
   "mimetype": "text/x-python",
   "name": "python",
   "nbconvert_exporter": "python",
   "pygments_lexer": "ipython3",
   "version": "3.8.3"
  }
 },
 "nbformat": 4,
 "nbformat_minor": 4
}
