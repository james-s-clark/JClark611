{
 "cells": [
  {
   "cell_type": "markdown",
   "metadata": {},
   "source": [
    "# Homework 2-3\n",
    "\n",
    "Homework 2-3 asks us to create a prime number generator. \n",
    "\n",
    "A prime number is a number such that it is only evenly divisible by 1 and itself. The first ten prime numbers are:"
   ]
  },
  {
   "cell_type": "code",
   "execution_count": 2,
   "metadata": {},
   "outputs": [
    {
     "name": "stdout",
     "output_type": "stream",
     "text": [
      "[2, 3, 5, 7, 11, 13, 17, 19, 23, 29]\n"
     ]
    }
   ],
   "source": [
    "first_primes_list = [2,3,5,7,11,13,17,19,23,29]\n",
    "print(first_primes_list)"
   ]
  },
  {
   "cell_type": "markdown",
   "metadata": {},
   "source": [
    "This can be confirmed by elementary arithmetic. However, finding the prime numbers under 1000 would be cumbersome. Thus, we create a generator in Python.\n",
    "\n",
    "## Prime Number Test\n",
    "\n",
    "Prime numbers are not evenly divisible by values lower than itself and 1. That is, dividing a prime number, call it x, by all numbers (2,x-1) will always result in a remainder. Luckily, Pthon has an operation, denoted by \"%\" that can give us the remainder of a division - and coupling this with for loops, we can create a prime number test."
   ]
  },
  {
   "cell_type": "code",
   "execution_count": 9,
   "metadata": {},
   "outputs": [
    {
     "name": "stdout",
     "output_type": "stream",
     "text": [
      "True\n"
     ]
    }
   ],
   "source": [
    "x = 13 #Let's test with a number I know to be prime\n",
    "Prime = True #Assume that the number is prime\n",
    "for i in range(2,13): #For Loop , We're letting Y take on Values from 2 to 12\n",
    "    if x % i == 0: #Python divides 13 by the Y Values\n",
    "        Prime = False #If it is divisible, then it is not prime\n",
    "print(Prime) #Print if it passes the test in our loop"
   ]
  },
  {
   "cell_type": "markdown",
   "metadata": {},
   "source": [
    "I can double check to make sure that this is coded right. I know, being an even number, 400 is prime. Let's apply the test."
   ]
  },
  {
   "cell_type": "code",
   "execution_count": 10,
   "metadata": {},
   "outputs": [
    {
     "name": "stdout",
     "output_type": "stream",
     "text": [
      "False\n"
     ]
    }
   ],
   "source": [
    "x = 400\n",
    "Prime = True\n",
    "for i in range(2,400):\n",
    "    if x % i == 0:\n",
    "        Prime = False \n",
    "print(Prime)"
   ]
  },
  {
   "cell_type": "markdown",
   "metadata": {},
   "source": [
    "So, we've at least established that we can test if any given number is prime. But in order to find all the prime numbers less than 1000, we'll have to let x take on a range itself.\n",
    "\n",
    "## Prime Number Generator\n",
    "\n",
    "In order to create our prime number generator, we will have to make use of a nested for loop. A nested loop is a loop that contains other loops. We're letting the number we're testing take on different values, and likewise, the test it self (the upper range of that value) also change."
   ]
  },
  {
   "cell_type": "code",
   "execution_count": 11,
   "metadata": {},
   "outputs": [
    {
     "name": "stdout",
     "output_type": "stream",
     "text": [
      "2, 3, 5, 7, 11, 13, 17, 19, 23, 29, 31, 37, 41, 43, 47, 53, 59, 61, 67, 71, 73, 79, 83, 89, 97, 101, 103, 107, 109, 113, 127, 131, 137, 139, 149, 151, 157, 163, 167, 173, 179, 181, 191, 193, 197, 199, 211, 223, 227, 229, 233, 239, 241, 251, 257, 263, 269, 271, 277, 281, 283, 293, 307, 311, 313, 317, 331, 337, 347, 349, 353, 359, 367, 373, 379, 383, 389, 397, 401, 409, 419, 421, 431, 433, 439, 443, 449, 457, 461, 463, 467, 479, 487, 491, 499, 503, 509, 521, 523, 541, 547, 557, 563, 569, 571, 577, 587, 593, 599, 601, 607, 613, 617, 619, 631, 641, 643, 647, 653, 659, 661, 673, 677, 683, 691, 701, 709, 719, 727, 733, 739, 743, 751, 757, 761, 769, 773, 787, 797, 809, 811, 821, 823, 827, 829, 839, 853, 857, 859, 863, 877, 881, 883, 887, 907, 911, 919, 929, 937, 941, 947, 953, 967, 971, 977, 983, 991, 997, "
     ]
    }
   ],
   "source": [
    "for x in range(2,1001): #We're letting x take on values from 2 to 1001\n",
    "    Prime = True \n",
    "    for i in range(2,x): #We divide each of those x values by the values less than x\n",
    "        if x % i == 0: #if it's evenly divisible \n",
    "            Prime = False #then it's not prime\n",
    "    if Prime:\n",
    "        print(x, end = \", \")"
   ]
  }
 ],
 "metadata": {
  "kernelspec": {
   "display_name": "Python 3",
   "language": "python",
   "name": "python3"
  },
  "language_info": {
   "codemirror_mode": {
    "name": "ipython",
    "version": 3
   },
   "file_extension": ".py",
   "mimetype": "text/x-python",
   "name": "python",
   "nbconvert_exporter": "python",
   "pygments_lexer": "ipython3",
   "version": "3.8.3"
  }
 },
 "nbformat": 4,
 "nbformat_minor": 4
}
