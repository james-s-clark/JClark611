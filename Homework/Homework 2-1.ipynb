{
 "cells": [
  {
   "cell_type": "markdown",
   "metadata": {},
   "source": [
    "## Homework 2-1\n",
    "\n",
    "The *Rule of 72*, states that, approximately, the number of periods it takes for the value of a security to double is approximately $72/r$ where $r$ is the interest rate. This is an approximation. The actual value, as derived from the future value equation is:\n",
    "\n",
    "$t = ln(2)/(ln(1+r))$ \n",
    "\n",
    "For percentage rates 1 through 10, the number of periods required to double is given as follows."
   ]
  },
  {
   "cell_type": "code",
   "execution_count": 2,
   "metadata": {},
   "outputs": [],
   "source": [
    "import numpy as np"
   ]
  },
  {
   "cell_type": "code",
   "execution_count": 31,
   "metadata": {},
   "outputs": [
    {
     "name": "stdout",
     "output_type": "stream",
     "text": [
      "% Rate: 1 \tPeriods: 69.66071689357483\n",
      "% Rate: 2 \tPeriods: 35.0027887811465\n",
      "% Rate: 3 \tPeriods: 23.449772250437736\n",
      "% Rate: 4 \tPeriods: 17.672987685129698\n",
      "% Rate: 5 \tPeriods: 14.206699082890463\n",
      "% Rate: 6 \tPeriods: 11.895661045941875\n",
      "% Rate: 7 \tPeriods: 10.244768351058712\n",
      "% Rate: 8 \tPeriods: 9.006468342000588\n",
      "% Rate: 9 \tPeriods: 8.043231726932046\n",
      "% Rate: 10 \tPeriods: 7.272540897341713\n"
     ]
    }
   ],
   "source": [
    "for r in range(1,11,1):\n",
    "    t = np.log(2) / np.log(1+r/100)\n",
    "    print(\"% Rate:\", r, \"\\tPeriods:\", t)\n",
    "    "
   ]
  },
  {
   "cell_type": "markdown",
   "metadata": {},
   "source": [
    "Compare this to our rule of thumb solution the Rule of 72."
   ]
  },
  {
   "cell_type": "code",
   "execution_count": 1,
   "metadata": {},
   "outputs": [
    {
     "name": "stdout",
     "output_type": "stream",
     "text": [
      "% Rate: 1 \tPeriods 72.0\n",
      "% Rate: 2 \tPeriods 36.0\n",
      "% Rate: 3 \tPeriods 24.0\n",
      "% Rate: 4 \tPeriods 18.0\n",
      "% Rate: 5 \tPeriods 14.4\n",
      "% Rate: 6 \tPeriods 12.0\n",
      "% Rate: 7 \tPeriods 10.285714285714286\n",
      "% Rate: 8 \tPeriods 9.0\n",
      "% Rate: 9 \tPeriods 8.0\n",
      "% Rate: 10 \tPeriods 7.2\n"
     ]
    }
   ],
   "source": [
    "for r in range(1,11,1):\n",
    "    t = (72/r)\n",
    "    print(\"% Rate:\", r, \"\\tPeriods\", t)"
   ]
  },
  {
   "cell_type": "markdown",
   "metadata": {},
   "source": [
    "Take notice that they yield approximately eqaul values."
   ]
  },
  {
   "cell_type": "code",
   "execution_count": null,
   "metadata": {},
   "outputs": [],
   "source": []
  }
 ],
 "metadata": {
  "kernelspec": {
   "display_name": "Python 3",
   "language": "python",
   "name": "python3"
  },
  "language_info": {
   "codemirror_mode": {
    "name": "ipython",
    "version": 3
   },
   "file_extension": ".py",
   "mimetype": "text/x-python",
   "name": "python",
   "nbconvert_exporter": "python",
   "pygments_lexer": "ipython3",
   "version": "3.8.3"
  }
 },
 "nbformat": 4,
 "nbformat_minor": 4
}
